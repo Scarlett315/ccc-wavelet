{
 "cells": [
  {
   "cell_type": "code",
   "execution_count": null,
   "metadata": {},
   "outputs": [],
   "source": [
    "import numpy as np\n",
    "from PIL import Image, ImageDraw\n",
    "import pandas as pd\n",
    "from IPython.display import display\n",
    "import json\n"
   ]
  },
  {
   "cell_type": "code",
   "execution_count": null,
   "metadata": {},
   "outputs": [],
   "source": [
    "# read color file\n",
    "def readColorFile(path):\n",
    "    with open(path, 'r') as f:\n",
    "        color_dict = json.load(f)\n",
    "    labels = color_dict[\"labels\"]\n",
    "    colors = color_dict[\"colors\"]\n",
    "    for key, value in colors.items():\n",
    "        colors[key] = tuple(value)\n",
    "    return labels, colors\n"
   ]
  },
  {
   "cell_type": "code",
   "execution_count": null,
   "metadata": {},
   "outputs": [],
   "source": [
    "def createPolygons(a, scaleFactor, label=None):\n",
    "    if label is None:\n",
    "        labels = a[\"pathologist_anno_x\"].unique()\n",
    "        col_name = \"pathologist_anno_x\"\n",
    "    else:\n",
    "        labels = a[label].unique()\n",
    "        col_name = label\n",
    "    print(labels)\n",
    "    polygons = {}\n",
    "    for l in range(len(labels)):\n",
    "        #print(labels[l])\n",
    "        polygons[labels[l]] = []\n",
    "\n",
    "    for annotation in a.itertuples():\n",
    "        polygons[getattr(annotation, col_name)].append((annotation.x * scaleFactor, annotation.y * scaleFactor))\n",
    "    return polygons"
   ]
  },
  {
   "cell_type": "code",
   "execution_count": null,
   "metadata": {},
   "outputs": [],
   "source": [
    "def drawMask(polygons, img, colorFile, radius=2, noLabel = False):\n",
    "    labels, colors = readColorFile(colorFile)\n",
    "    if noLabel:\n",
    "        labels = {label: label for label in polygons.keys()}\n",
    "        print(labels)\n",
    "\n",
    "    width, height = img.size\n",
    "    imgSize = (int(width), int(height))\n",
    "    print(imgSize)\n",
    "\n",
    "    # create mask\n",
    "    colorMask = Image.new(\"RGB\", imgSize, (0, 0, 0))\n",
    "    labelMask = Image.new(\"L\", imgSize, 0) # blank label mask (ML)\n",
    "    \n",
    "    # Drawing setup\n",
    "    draw_color = ImageDraw.Draw(colorMask)\n",
    "    draw_label = ImageDraw.Draw(labelMask)\n",
    "\n",
    "    labelNum = 0\n",
    "    pointsPlotted = 0\n",
    "    for label, points in polygons.items():\n",
    "        if noLabel:\n",
    "            color = list(colors)[labelNum]\n",
    "        else:\n",
    "            color = labels[label][1]\n",
    "        print(f\"Drawing label '{label}' with {len(points)} points, color {color}\")\n",
    "        for x, y in points:\n",
    "            bbox = (x - radius, y - radius, x + radius, y + radius)\n",
    "            draw_color.ellipse(bbox, fill=colors[color])\n",
    "            #draw_label.ellipse(bbox, fill=colors[color])\n",
    "            pointsPlotted += 1\n",
    "        labelNum += 1\n",
    "    print(f\"Plotted {pointsPlotted} points\")\n",
    "\n",
    "\n",
    "    colorMask = colorMask.transpose(Image.FLIP_LEFT_RIGHT)\n",
    "    colorMask = colorMask.rotate(90)\n",
    "\n",
    "    display(colorMask)\n",
    "    return colorMask\n",
    "    #display(labelMask)\n"
   ]
  },
  {
   "cell_type": "code",
   "execution_count": null,
   "metadata": {},
   "outputs": [],
   "source": [
    "def concatAnnotations(annotations, spatial):\n",
    "    def strip_suffix(barcode):\n",
    "        return str(barcode).rsplit('-', 1)[0]\n",
    "    spatial = spatial.copy()\n",
    "    annotations = annotations.copy()\n",
    "    print(spatial.index)\n",
    "    spatial.index = spatial.index.map(strip_suffix)\n",
    "    annotations.index = annotations.index.map(strip_suffix)\n",
    "    return replaceNaN(pd.concat([spatial, annotations], axis=1))\n"
   ]
  },
  {
   "cell_type": "code",
   "execution_count": null,
   "metadata": {},
   "outputs": [],
   "source": [
    "def replaceNaN(annotations):\n",
    "    annotations = annotations.copy()\n",
    "    annotations = annotations.fillna(\"NaN\")\n",
    "    return annotations\n"
   ]
  },
  {
   "cell_type": "code",
   "execution_count": null,
   "metadata": {},
   "outputs": [],
   "source": [
    "#test\n",
    "#p = createPolygons(annotations, 0.087)\n",
    "#drawMask(p, image)"
   ]
  },
  {
   "cell_type": "code",
   "execution_count": null,
   "metadata": {},
   "outputs": [],
   "source": []
  }
 ],
 "metadata": {
  "language_info": {
   "codemirror_mode": {
    "name": "ipython",
    "version": 3
   },
   "file_extension": ".py",
   "mimetype": "text/x-python",
   "name": "python",
   "nbconvert_exporter": "python",
   "pygments_lexer": "ipython3",
   "version": 3
  }
 },
 "nbformat": 4,
 "nbformat_minor": 2
}
