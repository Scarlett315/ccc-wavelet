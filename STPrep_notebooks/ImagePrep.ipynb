{
 "cells": [
  {
   "cell_type": "code",
   "execution_count": null,
   "metadata": {},
   "outputs": [],
   "source": [
    "# imports\n",
    "import numpy as np\n",
    "import pandas as pd\n",
    "import matplotlib.pyplot as plt\n",
    "from PIL import Image\n",
    "import cv2\n",
    "from ResampleMatrix import getBounds\n",
    "from PIL import ImageDraw\n",
    "import os"
   ]
  },
  {
   "cell_type": "code",
   "execution_count": null,
   "metadata": {},
   "outputs": [],
   "source": [
    "def imgAsMat(path):\n",
    "    img = Image.open(path)\n",
    "    matrix = np.asarray(img)\n",
    "\n",
    "    # separate channels\n",
    "    red = pd.DataFrame(matrix[:,:,0])\n",
    "    green = pd.DataFrame(matrix[:,:,1])\n",
    "    blue = pd.DataFrame(matrix[:,:,2])\n",
    "    return red.to_numpy(), green.to_numpy(), blue.to_numpy() \n",
    "\n",
    "def matToImg(red, green, blue):\n",
    "    matrix = np.dstack((red, green, blue))\n",
    "    return Image.fromarray(matrix)\n",
    "\n",
    "def showChannels(red, green, blue): #probably not very useful but fun to look at\n",
    "    matrix = np.vstack((red, green, blue))\n",
    "    return Image.fromarray(matrix)\n",
    "\n",
    "def normalizeChannels(red, green, blue):\n",
    "    nRed = cv2.normalize(red, None, alpha=0, beta=255, norm_type=cv2.NORM_MINMAX)\n",
    "    nGreen = cv2.normalize(green, None, alpha=0, beta=255, norm_type=cv2.NORM_MINMAX)\n",
    "    nBlue = cv2.normalize(blue, None, alpha=0, beta=255, norm_type=cv2.NORM_MINMAX)\n",
    "    return red, green, blue\n"
   ]
  },
  {
   "cell_type": "code",
   "execution_count": null,
   "metadata": {},
   "outputs": [],
   "source": [
    "#Z score normalization for RGB images per channel\n",
    "def normalizeImages(input_dir, output_dir):\n",
    "    for fname in os.listdir(input_dir):\n",
    "        if fname.lower().endswith('.png'):\n",
    "            path = os.path.join(input_dir, fname)\n",
    "            img = Image.open(path).convert('RGB')  # need to make sure it's RGB\n",
    "            img_np = np.array(img).astype(np.float32)  # shape: (H, W, 3)\n",
    "\n",
    "            z_norm = np.zeros_like(img_np)\n",
    "\n",
    "            for c in range(3):  # For each channel: R, G, B\n",
    "                channel = img_np[:, :, c]\n",
    "                mean = np.mean(channel)\n",
    "                std = np.std(channel)\n",
    "\n",
    "                if std == 0:\n",
    "                    print(f\"Skipping {fname} channel {c}: std=0\")\n",
    "                    continue\n",
    "\n",
    "                z_norm[:, :, c] = (channel - mean) / std\n",
    "\n",
    "            save_path = os.path.join(output_dir, os.path.splitext(fname)[0] + \".npy\")\n",
    "            np.save(save_path, z_norm)\n",
    "\n",
    "            print(f\"Normalized RGB and saved: {save_path}\")\n",
    "\n",
    "    print(\"All RGB images Z-score normalized :)\")\n"
   ]
  },
  {
   "cell_type": "code",
   "execution_count": null,
   "metadata": {},
   "outputs": [],
   "source": [
    "def cropImage(img, S, scaleFactor):\n",
    "    S = S.copy()\n",
    "    def swapAxes(spatial):\n",
    "        spatial['x'], spatial['y'] = spatial['y'], spatial['x']\n",
    "        return spatial\n",
    "\n",
    "    def toPixels(spot):\n",
    "        pixel = int(spot * scaleFactor)\n",
    "        return pixel\n",
    "    \n",
    "    S = swapAxes(S)\n",
    "    S['x'] = S['x'].apply(toPixels)\n",
    "    S['y'] = S['y'].apply(toPixels)\n",
    "    xMin, xMax, yMin, yMax = getBounds(S)\n",
    "\n",
    "    shape = [xMin, yMin, xMax, yMax]\n",
    "    cropped = img\n",
    "\n",
    "    cropped = cropped.crop(shape)\n",
    "    \n",
    "    return cropped"
   ]
  },
  {
   "cell_type": "code",
   "execution_count": null,
   "metadata": {},
   "outputs": [],
   "source": [
    "def overlayST(img, STImg, origin = (0,0)):\n",
    "    img = img.copy()\n",
    "    STImg = STImg.copy()\n",
    "    img = img.convert(\"RGBA\")\n",
    "    STImg.putalpha(150)\n",
    "    img.paste(STImg, origin, STImg)\n",
    "    return img"
   ]
  }
 ],
 "metadata": {
  "language_info": {
   "codemirror_mode": {
    "name": "ipython",
    "version": 3
   },
   "file_extension": ".py",
   "mimetype": "text/x-python",
   "name": "python",
   "nbconvert_exporter": "python",
   "pygments_lexer": "ipython3",
   "version": 3
  }
 },
 "nbformat": 4,
 "nbformat_minor": 2
}
